{
  "nbformat": 4,
  "nbformat_minor": 0,
  "metadata": {
    "colab": {
      "provenance": [],
      "gpuType": "T4",
      "authorship_tag": "ABX9TyNLUAK3Ae+TfrMyjkUmWAH9",
      "include_colab_link": true
    },
    "kernelspec": {
      "name": "python3",
      "display_name": "Python 3"
    },
    "language_info": {
      "name": "python"
    },
    "accelerator": "GPU"
  },
  "cells": [
    {
      "cell_type": "markdown",
      "metadata": {
        "id": "view-in-github",
        "colab_type": "text"
      },
      "source": [
        "<a href=\"https://colab.research.google.com/github/soumyasankar99/DigitWise_MNIST-_Model_Comparison/blob/main/ML_Approach_with_WNDB.ipynb\" target=\"_parent\"><img src=\"https://colab.research.google.com/assets/colab-badge.svg\" alt=\"Open In Colab\"/></a>"
      ]
    },
    {
      "cell_type": "code",
      "source": [
        "!pip install tensorflow\n",
        "!pip install keras"
      ],
      "metadata": {
        "colab": {
          "base_uri": "https://localhost:8080/"
        },
        "collapsed": true,
        "id": "B3-olH2pFUUg",
        "outputId": "9815b4a1-c619-4cdd-ddac-e46674f8e38c"
      },
      "execution_count": 2,
      "outputs": [
        {
          "output_type": "stream",
          "name": "stdout",
          "text": [
            "Requirement already satisfied: tensorflow in /usr/local/lib/python3.11/dist-packages (2.18.0)\n",
            "Requirement already satisfied: absl-py>=1.0.0 in /usr/local/lib/python3.11/dist-packages (from tensorflow) (1.4.0)\n",
            "Requirement already satisfied: astunparse>=1.6.0 in /usr/local/lib/python3.11/dist-packages (from tensorflow) (1.6.3)\n",
            "Requirement already satisfied: flatbuffers>=24.3.25 in /usr/local/lib/python3.11/dist-packages (from tensorflow) (25.2.10)\n",
            "Requirement already satisfied: gast!=0.5.0,!=0.5.1,!=0.5.2,>=0.2.1 in /usr/local/lib/python3.11/dist-packages (from tensorflow) (0.6.0)\n",
            "Requirement already satisfied: google-pasta>=0.1.1 in /usr/local/lib/python3.11/dist-packages (from tensorflow) (0.2.0)\n",
            "Requirement already satisfied: libclang>=13.0.0 in /usr/local/lib/python3.11/dist-packages (from tensorflow) (18.1.1)\n",
            "Requirement already satisfied: opt-einsum>=2.3.2 in /usr/local/lib/python3.11/dist-packages (from tensorflow) (3.4.0)\n",
            "Requirement already satisfied: packaging in /usr/local/lib/python3.11/dist-packages (from tensorflow) (24.2)\n",
            "Requirement already satisfied: protobuf!=4.21.0,!=4.21.1,!=4.21.2,!=4.21.3,!=4.21.4,!=4.21.5,<6.0.0dev,>=3.20.3 in /usr/local/lib/python3.11/dist-packages (from tensorflow) (5.29.4)\n",
            "Requirement already satisfied: requests<3,>=2.21.0 in /usr/local/lib/python3.11/dist-packages (from tensorflow) (2.32.3)\n",
            "Requirement already satisfied: setuptools in /usr/local/lib/python3.11/dist-packages (from tensorflow) (75.1.0)\n",
            "Requirement already satisfied: six>=1.12.0 in /usr/local/lib/python3.11/dist-packages (from tensorflow) (1.17.0)\n",
            "Requirement already satisfied: termcolor>=1.1.0 in /usr/local/lib/python3.11/dist-packages (from tensorflow) (2.5.0)\n",
            "Requirement already satisfied: typing-extensions>=3.6.6 in /usr/local/lib/python3.11/dist-packages (from tensorflow) (4.12.2)\n",
            "Requirement already satisfied: wrapt>=1.11.0 in /usr/local/lib/python3.11/dist-packages (from tensorflow) (1.17.2)\n",
            "Requirement already satisfied: grpcio<2.0,>=1.24.3 in /usr/local/lib/python3.11/dist-packages (from tensorflow) (1.71.0)\n",
            "Requirement already satisfied: tensorboard<2.19,>=2.18 in /usr/local/lib/python3.11/dist-packages (from tensorflow) (2.18.0)\n",
            "Requirement already satisfied: keras>=3.5.0 in /usr/local/lib/python3.11/dist-packages (from tensorflow) (3.8.0)\n",
            "Requirement already satisfied: numpy<2.1.0,>=1.26.0 in /usr/local/lib/python3.11/dist-packages (from tensorflow) (2.0.2)\n",
            "Requirement already satisfied: h5py>=3.11.0 in /usr/local/lib/python3.11/dist-packages (from tensorflow) (3.13.0)\n",
            "Requirement already satisfied: ml-dtypes<0.5.0,>=0.4.0 in /usr/local/lib/python3.11/dist-packages (from tensorflow) (0.4.1)\n",
            "Requirement already satisfied: tensorflow-io-gcs-filesystem>=0.23.1 in /usr/local/lib/python3.11/dist-packages (from tensorflow) (0.37.1)\n",
            "Requirement already satisfied: wheel<1.0,>=0.23.0 in /usr/local/lib/python3.11/dist-packages (from astunparse>=1.6.0->tensorflow) (0.45.1)\n",
            "Requirement already satisfied: rich in /usr/local/lib/python3.11/dist-packages (from keras>=3.5.0->tensorflow) (13.9.4)\n",
            "Requirement already satisfied: namex in /usr/local/lib/python3.11/dist-packages (from keras>=3.5.0->tensorflow) (0.0.8)\n",
            "Requirement already satisfied: optree in /usr/local/lib/python3.11/dist-packages (from keras>=3.5.0->tensorflow) (0.14.1)\n",
            "Requirement already satisfied: charset-normalizer<4,>=2 in /usr/local/lib/python3.11/dist-packages (from requests<3,>=2.21.0->tensorflow) (3.4.1)\n",
            "Requirement already satisfied: idna<4,>=2.5 in /usr/local/lib/python3.11/dist-packages (from requests<3,>=2.21.0->tensorflow) (3.10)\n",
            "Requirement already satisfied: urllib3<3,>=1.21.1 in /usr/local/lib/python3.11/dist-packages (from requests<3,>=2.21.0->tensorflow) (2.3.0)\n",
            "Requirement already satisfied: certifi>=2017.4.17 in /usr/local/lib/python3.11/dist-packages (from requests<3,>=2.21.0->tensorflow) (2025.1.31)\n",
            "Requirement already satisfied: markdown>=2.6.8 in /usr/local/lib/python3.11/dist-packages (from tensorboard<2.19,>=2.18->tensorflow) (3.7)\n",
            "Requirement already satisfied: tensorboard-data-server<0.8.0,>=0.7.0 in /usr/local/lib/python3.11/dist-packages (from tensorboard<2.19,>=2.18->tensorflow) (0.7.2)\n",
            "Requirement already satisfied: werkzeug>=1.0.1 in /usr/local/lib/python3.11/dist-packages (from tensorboard<2.19,>=2.18->tensorflow) (3.1.3)\n",
            "Requirement already satisfied: MarkupSafe>=2.1.1 in /usr/local/lib/python3.11/dist-packages (from werkzeug>=1.0.1->tensorboard<2.19,>=2.18->tensorflow) (3.0.2)\n",
            "Requirement already satisfied: markdown-it-py>=2.2.0 in /usr/local/lib/python3.11/dist-packages (from rich->keras>=3.5.0->tensorflow) (3.0.0)\n",
            "Requirement already satisfied: pygments<3.0.0,>=2.13.0 in /usr/local/lib/python3.11/dist-packages (from rich->keras>=3.5.0->tensorflow) (2.18.0)\n",
            "Requirement already satisfied: mdurl~=0.1 in /usr/local/lib/python3.11/dist-packages (from markdown-it-py>=2.2.0->rich->keras>=3.5.0->tensorflow) (0.1.2)\n",
            "Requirement already satisfied: keras in /usr/local/lib/python3.11/dist-packages (3.8.0)\n",
            "Requirement already satisfied: absl-py in /usr/local/lib/python3.11/dist-packages (from keras) (1.4.0)\n",
            "Requirement already satisfied: numpy in /usr/local/lib/python3.11/dist-packages (from keras) (2.0.2)\n",
            "Requirement already satisfied: rich in /usr/local/lib/python3.11/dist-packages (from keras) (13.9.4)\n",
            "Requirement already satisfied: namex in /usr/local/lib/python3.11/dist-packages (from keras) (0.0.8)\n",
            "Requirement already satisfied: h5py in /usr/local/lib/python3.11/dist-packages (from keras) (3.13.0)\n",
            "Requirement already satisfied: optree in /usr/local/lib/python3.11/dist-packages (from keras) (0.14.1)\n",
            "Requirement already satisfied: ml-dtypes in /usr/local/lib/python3.11/dist-packages (from keras) (0.4.1)\n",
            "Requirement already satisfied: packaging in /usr/local/lib/python3.11/dist-packages (from keras) (24.2)\n",
            "Requirement already satisfied: typing-extensions>=4.5.0 in /usr/local/lib/python3.11/dist-packages (from optree->keras) (4.12.2)\n",
            "Requirement already satisfied: markdown-it-py>=2.2.0 in /usr/local/lib/python3.11/dist-packages (from rich->keras) (3.0.0)\n",
            "Requirement already satisfied: pygments<3.0.0,>=2.13.0 in /usr/local/lib/python3.11/dist-packages (from rich->keras) (2.18.0)\n",
            "Requirement already satisfied: mdurl~=0.1 in /usr/local/lib/python3.11/dist-packages (from markdown-it-py>=2.2.0->rich->keras) (0.1.2)\n"
          ]
        }
      ]
    },
    {
      "cell_type": "code",
      "execution_count": 3,
      "metadata": {
        "id": "Hi5O5G-4nRpB"
      },
      "outputs": [],
      "source": [
        "import numpy as np\n",
        "import pandas as pd\n",
        "import matplotlib.pyplot as plt\n",
        "import seaborn as sns\n",
        "\n",
        "from sklearn.datasets import fetch_openml\n",
        "from sklearn.model_selection import train_test_split\n",
        "from sklearn.preprocessing import StandardScaler\n",
        "from sklearn.metrics import classification_report, accuracy_score, confusion_matrix\n",
        "\n",
        "from sklearn.linear_model import LogisticRegression\n",
        "from sklearn.svm import SVC\n",
        "from sklearn.ensemble import RandomForestClassifier\n",
        "from sklearn.neighbors import KNeighborsClassifier\n",
        "from sklearn.naive_bayes import GaussianNB\n",
        "\n",
        "from tensorflow.keras.models import Sequential\n",
        "from tensorflow.keras.layers import Dense, Flatten\n",
        "from tensorflow.keras.utils import to_categorical\n",
        "\n",
        "import warnings\n",
        "warnings.filterwarnings('ignore')\n"
      ]
    },
    {
      "cell_type": "markdown",
      "source": [
        "### Load the data set: MNITS"
      ],
      "metadata": {
        "id": "XzzTTX4FoD7J"
      }
    },
    {
      "cell_type": "code",
      "source": [
        "mnist = fetch_openml('mnist_784', version=1)\n",
        "X, y = mnist.data, mnist.target.astype('int')\n",
        "\n",
        "print(f\"Shape: {X.shape}, Labels: {np.unique(y)}\")\n"
      ],
      "metadata": {
        "colab": {
          "base_uri": "https://localhost:8080/"
        },
        "id": "n4d7mTS1oPGS",
        "outputId": "e42462c4-5475-4b1a-ebe6-8bf0a4e59383"
      },
      "execution_count": 4,
      "outputs": [
        {
          "output_type": "stream",
          "name": "stdout",
          "text": [
            "Shape: (70000, 784), Labels: [0 1 2 3 4 5 6 7 8 9]\n"
          ]
        }
      ]
    },
    {
      "cell_type": "markdown",
      "source": [
        "### Visualize Sample Digits"
      ],
      "metadata": {
        "id": "5pOyyo0coZta"
      }
    },
    {
      "cell_type": "code",
      "source": [
        "plt.figure(figsize=(10, 3))\n",
        "for i in range(10):\n",
        "    plt.subplot(2, 5, i+1)\n",
        "    plt.imshow(X.iloc[i].values.reshape(28, 28), cmap='gray')\n",
        "    plt.title(f\"Label: {y[i]}\")\n",
        "    plt.axis('off')\n",
        "plt.tight_layout()\n",
        "plt.show()\n"
      ],
      "metadata": {
        "colab": {
          "base_uri": "https://localhost:8080/",
          "height": 306
        },
        "id": "kzfFjwgKocZr",
        "outputId": "a188b873-65aa-4f81-c527-39c8ffc2b68b"
      },
      "execution_count": 5,
      "outputs": [
        {
          "output_type": "display_data",
          "data": {
            "text/plain": [
              "<Figure size 1000x300 with 10 Axes>"
            ],
            "image/png": "[encoded data removed]"
          },
          "metadata": {}
        }
      ]
    },
    {
      "cell_type": "markdown",
      "source": [
        "### **Preprocessing** ❎\n"
      ],
      "metadata": {
        "id": "HUjz7bWholiU"
      }
    },
    {
      "cell_type": "code",
      "source": [
        "scaler = StandardScaler()\n",
        "X_scaled = scaler.fit_transform(X)\n",
        "\n",
        "# Train-test split\n",
        "X_train, X_test, y_train, y_test = train_test_split(X_scaled, y, test_size=0.2, random_state=42)\n"
      ],
      "metadata": {
        "id": "ZfwGWUs0oijI"
      },
      "execution_count": 6,
      "outputs": []
    },
    {
      "cell_type": "markdown",
      "source": [
        "### **Apply WNDB (Custom Weighting Technique):**\n",
        "\n",
        "For demonstration, let’s apply a simple class weighting approach as a proxy for WNDB:"
      ],
      "metadata": {
        "id": "h5otGdUspbje"
      }
    },
    {
      "cell_type": "code",
      "source": [
        "from sklearn.utils.class_weight import compute_class_weight\n",
        "\n",
        "class_weights = compute_class_weight(class_weight='balanced', classes=np.unique(y_train), y=y_train)\n",
        "class_weight_dict = dict(zip(np.unique(y_train), class_weights))\n",
        "\n",
        "print(\"Sample class weights (WNDB proxy):\", class_weight_dict)\n"
      ],
      "metadata": {
        "colab": {
          "base_uri": "https://localhost:8080/"
        },
        "id": "zoc_tLVWota0",
        "outputId": "2de9f2ff-7e3c-4f0c-cc8d-adc321560b76"
      },
      "execution_count": 7,
      "outputs": [
        {
          "output_type": "stream",
          "name": "stdout",
          "text": [
            "Sample class weights (WNDB proxy): {np.int64(0): np.float64(1.0071942446043165), np.int64(1): np.float64(0.8921459295841963), np.int64(2): np.float64(0.9982174688057041), np.int64(3): np.float64(0.9810791871058164), np.int64(4): np.float64(1.0128413818050281), np.int64(5): np.float64(1.1111111111111112), np.int64(6): np.float64(1.0218978102189782), np.int64(7): np.float64(0.9671848013816926), np.int64(8): np.float64(1.024140453547915), np.int64(9): np.float64(1.0111953773925606)}\n"
          ]
        }
      ]
    },
    {
      "cell_type": "markdown",
      "source": [
        "### **Train Models**\n",
        "\n",
        "**(a) Logistic Regression**"
      ],
      "metadata": {
        "id": "AqnLViCnpol3"
      }
    },
    {
      "cell_type": "code",
      "source": [
        "lr = LogisticRegression(max_iter=1000)\n",
        "lr.fit(X_train, y_train)\n",
        "lr_pred = lr.predict(X_test)\n",
        "print(\"LR Accuracy:\", accuracy_score(y_test, lr_pred))\n"
      ],
      "metadata": {
        "colab": {
          "base_uri": "https://localhost:8080/"
        },
        "id": "6z3TF8Q_otXZ",
        "outputId": "9a554fc5-21b4-47c7-e623-724e01a826bc"
      },
      "execution_count": 8,
      "outputs": [
        {
          "output_type": "stream",
          "name": "stdout",
          "text": [
            "LR Accuracy: 0.9153571428571429\n"
          ]
        }
      ]
    },
    {
      "cell_type": "markdown",
      "source": [
        "**(b) Random Forest**"
      ],
      "metadata": {
        "id": "aYVyfzVZqHiS"
      }
    },
    {
      "cell_type": "code",
      "source": [
        "rf = RandomForestClassifier(n_estimators=100)\n",
        "rf.fit(X_train, y_train)\n",
        "rf_pred = rf.predict(X_test)\n",
        "print(\"RF Accuracy:\", accuracy_score(y_test, rf_pred))\n"
      ],
      "metadata": {
        "colab": {
          "base_uri": "https://localhost:8080/"
        },
        "id": "WPQ4O3g3poFW",
        "outputId": "ad0517a9-1273-4af9-8ee1-0ecadd1e495a"
      },
      "execution_count": 9,
      "outputs": [
        {
          "output_type": "stream",
          "name": "stdout",
          "text": [
            "RF Accuracy: 0.967\n"
          ]
        }
      ]
    },
    {
      "cell_type": "markdown",
      "source": [
        "**(c) SVM**"
      ],
      "metadata": {
        "id": "RM2ChFeZqXXC"
      }
    },
    {
      "cell_type": "code",
      "source": [
        "svm = SVC()\n",
        "svm.fit(X_train[:5000], y_train[:5000])  # using subset for speed\n",
        "svm_pred = svm.predict(X_test[:1000])\n",
        "print(\"SVM Accuracy:\", accuracy_score(y_test[:1000], svm_pred))\n"
      ],
      "metadata": {
        "colab": {
          "base_uri": "https://localhost:8080/"
        },
        "id": "qVD7WRqAqXAB",
        "outputId": "eefb667d-8c4a-491b-9033-d8f37403a071"
      },
      "execution_count": 10,
      "outputs": [
        {
          "output_type": "stream",
          "name": "stdout",
          "text": [
            "SVM Accuracy: 0.935\n"
          ]
        }
      ]
    },
    {
      "cell_type": "markdown",
      "source": [
        "**(d) KNN**"
      ],
      "metadata": {
        "id": "D-wf0F8Zqfcv"
      }
    },
    {
      "cell_type": "code",
      "source": [
        "knn = KNeighborsClassifier()\n",
        "knn.fit(X_train[:10000], y_train[:10000])\n",
        "knn_pred = knn.predict(X_test[:1000])\n",
        "print(\"KNN Accuracy:\", accuracy_score(y_test[:1000], knn_pred))\n"
      ],
      "metadata": {
        "colab": {
          "base_uri": "https://localhost:8080/"
        },
        "id": "GRn1KSCoqfHU",
        "outputId": "2fe1d911-e240-4168-9b5c-cd76052f37e0"
      },
      "execution_count": 11,
      "outputs": [
        {
          "output_type": "stream",
          "name": "stdout",
          "text": [
            "KNN Accuracy: 0.913\n"
          ]
        }
      ]
    },
    {
      "cell_type": "markdown",
      "source": [
        "**(e) Naive Bayes**"
      ],
      "metadata": {
        "id": "zPV9tnI5qmhW"
      }
    },
    {
      "cell_type": "code",
      "source": [
        "nb = GaussianNB()\n",
        "nb.fit(X_train, y_train)\n",
        "nb_pred = nb.predict(X_test)\n",
        "print(\"NB Accuracy:\", accuracy_score(y_test, nb_pred))\n"
      ],
      "metadata": {
        "colab": {
          "base_uri": "https://localhost:8080/"
        },
        "id": "q0aMI1rcqmN6",
        "outputId": "68dfb438-9420-498b-dea0-2babe498c4f0"
      },
      "execution_count": 12,
      "outputs": [
        {
          "output_type": "stream",
          "name": "stdout",
          "text": [
            "NB Accuracy: 0.5257857142857143\n"
          ]
        }
      ]
    },
    {
      "cell_type": "markdown",
      "source": [
        "**7. Deep Learning Model (MLP)**"
      ],
      "metadata": {
        "id": "JCNW0yVKq0wk"
      }
    },
    {
      "cell_type": "code",
      "source": [
        "X_train_dl = X_train.reshape(-1, 28, 28, 1)\n",
        "X_test_dl = X_test.reshape(-1, 28, 28, 1)\n",
        "y_train_cat = to_categorical(y_train, 10)\n",
        "y_test_cat = to_categorical(y_test, 10)\n",
        "\n",
        "model = Sequential([\n",
        "    Flatten(input_shape=(28, 28, 1)),\n",
        "    Dense(128, activation='relu'),\n",
        "    Dense(64, activation='relu'),\n",
        "    Dense(10, activation='softmax')\n",
        "])\n",
        "\n",
        "model.compile(optimizer='adam', loss='categorical_crossentropy', metrics=['accuracy'])\n",
        "\n",
        "model.fit(X_train_dl, y_train_cat, epochs=5, class_weight=class_weight_dict, verbose=1)\n",
        "dl_loss, dl_acc = model.evaluate(X_test_dl, y_test_cat)\n",
        "print(\"DL Accuracy:\", dl_acc)\n"
      ],
      "metadata": {
        "colab": {
          "base_uri": "https://localhost:8080/"
        },
        "id": "B9f3sJCIqW07",
        "outputId": "8617faea-a27b-466b-c9c5-c8e2744b055d"
      },
      "execution_count": 13,
      "outputs": [
        {
          "output_type": "stream",
          "name": "stdout",
          "text": [
            "Epoch 1/5\n",
            "\u001b[1m1750/1750\u001b[0m \u001b[32m━━━━━━━━━━━━━━━━━━━━\u001b[0m\u001b[37m\u001b[0m \u001b[1m7s\u001b[0m 2ms/step - accuracy: 0.8895 - loss: 0.3839\n",
            "Epoch 2/5\n",
            "\u001b[1m1750/1750\u001b[0m \u001b[32m━━━━━━━━━━━━━━━━━━━━\u001b[0m\u001b[37m\u001b[0m \u001b[1m5s\u001b[0m 3ms/step - accuracy: 0.9707 - loss: 0.0967\n",
            "Epoch 3/5\n",
            "\u001b[1m1750/1750\u001b[0m \u001b[32m━━━━━━━━━━━━━━━━━━━━\u001b[0m\u001b[37m\u001b[0m \u001b[1m4s\u001b[0m 2ms/step - accuracy: 0.9798 - loss: 0.0643\n",
            "Epoch 4/5\n",
            "\u001b[1m1750/1750\u001b[0m \u001b[32m━━━━━━━━━━━━━━━━━━━━\u001b[0m\u001b[37m\u001b[0m \u001b[1m5s\u001b[0m 3ms/step - accuracy: 0.9848 - loss: 0.0490\n",
            "Epoch 5/5\n",
            "\u001b[1m1750/1750\u001b[0m \u001b[32m━━━━━━━━━━━━━━━━━━━━\u001b[0m\u001b[37m\u001b[0m \u001b[1m5s\u001b[0m 3ms/step - accuracy: 0.9889 - loss: 0.0345\n",
            "\u001b[1m438/438\u001b[0m \u001b[32m━━━━━━━━━━━━━━━━━━━━\u001b[0m\u001b[37m\u001b[0m \u001b[1m2s\u001b[0m 3ms/step - accuracy: 0.9664 - loss: 0.1470\n",
            "DL Accuracy: 0.9682142734527588\n"
          ]
        }
      ]
    },
    {
      "cell_type": "markdown",
      "source": [
        "##✅ Best Performing Model: Deep Learning (MLP)\n",
        "\n",
        "### Why Deep Learning Wins?\n",
        "\n",
        "1) Learns non-linear complex patterns\n",
        "\n",
        "2) Scales well with large datasets like MNIST\n",
        "\n",
        "3) Automatically extracts features (no manual feature engineering)\n",
        "\n",
        "4) Class weights helped handle slight class imbalance (WNDB effect)"
      ],
      "metadata": {
        "id": "Ou0BV3Fqr5t5"
      }
    },
    {
      "cell_type": "markdown",
      "source": [
        "## **WandB Integration:**\n",
        "\n",
        "- Track model performance\n",
        "\n",
        "- Log training/validation metrics\n",
        "\n",
        "- Compare experiments visually on the WandB dashboard\n",
        "\n",
        "- Use it for hyperparameter tuning if needed"
      ],
      "metadata": {
        "id": "CVlGV995sNnG"
      }
    },
    {
      "cell_type": "markdown",
      "source": [
        "## **Install WandB**"
      ],
      "metadata": {
        "id": "2veKh3DasdVG"
      }
    },
    {
      "cell_type": "code",
      "source": [
        "!pip install wandb -qU\n",
        "!pip install wandb[keras]\n",
        "!wandb login  # Use your API key from https://wandb.ai/\n"
      ],
      "metadata": {
        "colab": {
          "base_uri": "https://localhost:8080/"
        },
        "collapsed": true,
        "id": "vFJxZBd2qWxe",
        "outputId": "6dd02176-126f-4760-b78d-2e7695e25414"
      },
      "execution_count": 14,
      "outputs": [
        {
          "output_type": "stream",
          "name": "stdout",
          "text": [
            "Requirement already satisfied: wandb[keras] in /usr/local/lib/python3.11/dist-packages (0.19.8)\n",
            "\u001b[33mWARNING: wandb 0.19.8 does not provide the extra 'keras'\u001b[0m\u001b[33m\n",
            "\u001b[0mRequirement already satisfied: click!=8.0.0,>=7.1 in /usr/local/lib/python3.11/dist-packages (from wandb[keras]) (8.1.8)\n",
            "Requirement already satisfied: docker-pycreds>=0.4.0 in /usr/local/lib/python3.11/dist-packages (from wandb[keras]) (0.4.0)\n",
            "Requirement already satisfied: gitpython!=3.1.29,>=1.0.0 in /usr/local/lib/python3.11/dist-packages (from wandb[keras]) (3.1.44)\n",
            "Requirement already satisfied: platformdirs in /usr/local/lib/python3.11/dist-packages (from wandb[keras]) (4.3.7)\n",
            "Requirement already satisfied: protobuf!=4.21.0,!=5.28.0,<6,>=3.19.0 in /usr/local/lib/python3.11/dist-packages (from wandb[keras]) (5.29.4)\n",
            "Requirement already satisfied: psutil>=5.0.0 in /usr/local/lib/python3.11/dist-packages (from wandb[keras]) (5.9.5)\n",
            "Requirement already satisfied: pydantic<3,>=2.6 in /usr/local/lib/python3.11/dist-packages (from wandb[keras]) (2.10.6)\n",
            "Requirement already satisfied: pyyaml in /usr/local/lib/python3.11/dist-packages (from wandb[keras]) (6.0.2)\n",
            "Requirement already satisfied: requests<3,>=2.0.0 in /usr/local/lib/python3.11/dist-packages (from wandb[keras]) (2.32.3)\n",
            "Requirement already satisfied: sentry-sdk>=2.0.0 in /usr/local/lib/python3.11/dist-packages (from wandb[keras]) (2.24.0)\n",
            "Requirement already satisfied: setproctitle in /usr/local/lib/python3.11/dist-packages (from wandb[keras]) (1.3.5)\n",
            "Requirement already satisfied: setuptools in /usr/local/lib/python3.11/dist-packages (from wandb[keras]) (75.1.0)\n",
            "Requirement already satisfied: typing-extensions<5,>=4.4 in /usr/local/lib/python3.11/dist-packages (from wandb[keras]) (4.12.2)\n",
            "Requirement already satisfied: six>=1.4.0 in /usr/local/lib/python3.11/dist-packages (from docker-pycreds>=0.4.0->wandb[keras]) (1.17.0)\n",
            "Requirement already satisfied: gitdb<5,>=4.0.1 in /usr/local/lib/python3.11/dist-packages (from gitpython!=3.1.29,>=1.0.0->wandb[keras]) (4.0.12)\n",
            "Requirement already satisfied: annotated-types>=0.6.0 in /usr/local/lib/python3.11/dist-packages (from pydantic<3,>=2.6->wandb[keras]) (0.7.0)\n",
            "Requirement already satisfied: pydantic-core==2.27.2 in /usr/local/lib/python3.11/dist-packages (from pydantic<3,>=2.6->wandb[keras]) (2.27.2)\n",
            "Requirement already satisfied: charset-normalizer<4,>=2 in /usr/local/lib/python3.11/dist-packages (from requests<3,>=2.0.0->wandb[keras]) (3.4.1)\n",
            "Requirement already satisfied: idna<4,>=2.5 in /usr/local/lib/python3.11/dist-packages (from requests<3,>=2.0.0->wandb[keras]) (3.10)\n",
            "Requirement already satisfied: urllib3<3,>=1.21.1 in /usr/local/lib/python3.11/dist-packages (from requests<3,>=2.0.0->wandb[keras]) (2.3.0)\n",
            "Requirement already satisfied: certifi>=2017.4.17 in /usr/local/lib/python3.11/dist-packages (from requests<3,>=2.0.0->wandb[keras]) (2025.1.31)\n",
            "Requirement already satisfied: smmap<6,>=3.0.1 in /usr/local/lib/python3.11/dist-packages (from gitdb<5,>=4.0.1->gitpython!=3.1.29,>=1.0.0->wandb[keras]) (5.0.2)\n",
            "\u001b[34m\u001b[1mwandb\u001b[0m: Logging into wandb.ai. (Learn how to deploy a W&B server locally: https://wandb.me/wandb-server)\n",
            "\u001b[34m\u001b[1mwandb\u001b[0m: You can find your API key in your browser here: https://wandb.ai/authorize\n",
            "\u001b[34m\u001b[1mwandb\u001b[0m: Paste an API key from your profile and hit enter, or press ctrl+c to quit: \n",
            "\u001b[34m\u001b[1mwandb\u001b[0m: No netrc file found, creating one.\n",
            "\u001b[34m\u001b[1mwandb\u001b[0m: Appending key for api.wandb.ai to your netrc file: /root/.netrc\n",
            "\u001b[34m\u001b[1mwandb\u001b[0m: Currently logged in as: \u001b[33msoumyasankar99\u001b[0m (\u001b[33msoumyasankar99-mixxion\u001b[0m) to \u001b[32mhttps://api.wandb.ai\u001b[0m. Use \u001b[1m`wandb login --relogin`\u001b[0m to force relogin\n"
          ]
        }
      ]
    },
    {
      "cell_type": "code",
      "source": [
        "!pip install --upgrade wandb\n"
      ],
      "metadata": {
        "collapsed": true,
        "colab": {
          "base_uri": "https://localhost:8080/"
        },
        "id": "MRot3CFwIHvF",
        "outputId": "736ec8e7-d42d-4b24-ec85-ef504e62c253"
      },
      "execution_count": 15,
      "outputs": [
        {
          "output_type": "stream",
          "name": "stdout",
          "text": [
            "Requirement already satisfied: wandb in /usr/local/lib/python3.11/dist-packages (0.19.8)\n",
            "Requirement already satisfied: click!=8.0.0,>=7.1 in /usr/local/lib/python3.11/dist-packages (from wandb) (8.1.8)\n",
            "Requirement already satisfied: docker-pycreds>=0.4.0 in /usr/local/lib/python3.11/dist-packages (from wandb) (0.4.0)\n",
            "Requirement already satisfied: gitpython!=3.1.29,>=1.0.0 in /usr/local/lib/python3.11/dist-packages (from wandb) (3.1.44)\n",
            "Requirement already satisfied: platformdirs in /usr/local/lib/python3.11/dist-packages (from wandb) (4.3.7)\n",
            "Requirement already satisfied: protobuf!=4.21.0,!=5.28.0,<6,>=3.19.0 in /usr/local/lib/python3.11/dist-packages (from wandb) (5.29.4)\n",
            "Requirement already satisfied: psutil>=5.0.0 in /usr/local/lib/python3.11/dist-packages (from wandb) (5.9.5)\n",
            "Requirement already satisfied: pydantic<3,>=2.6 in /usr/local/lib/python3.11/dist-packages (from wandb) (2.10.6)\n",
            "Requirement already satisfied: pyyaml in /usr/local/lib/python3.11/dist-packages (from wandb) (6.0.2)\n",
            "Requirement already satisfied: requests<3,>=2.0.0 in /usr/local/lib/python3.11/dist-packages (from wandb) (2.32.3)\n",
            "Requirement already satisfied: sentry-sdk>=2.0.0 in /usr/local/lib/python3.11/dist-packages (from wandb) (2.24.0)\n",
            "Requirement already satisfied: setproctitle in /usr/local/lib/python3.11/dist-packages (from wandb) (1.3.5)\n",
            "Requirement already satisfied: setuptools in /usr/local/lib/python3.11/dist-packages (from wandb) (75.1.0)\n",
            "Requirement already satisfied: typing-extensions<5,>=4.4 in /usr/local/lib/python3.11/dist-packages (from wandb) (4.12.2)\n",
            "Requirement already satisfied: six>=1.4.0 in /usr/local/lib/python3.11/dist-packages (from docker-pycreds>=0.4.0->wandb) (1.17.0)\n",
            "Requirement already satisfied: gitdb<5,>=4.0.1 in /usr/local/lib/python3.11/dist-packages (from gitpython!=3.1.29,>=1.0.0->wandb) (4.0.12)\n",
            "Requirement already satisfied: annotated-types>=0.6.0 in /usr/local/lib/python3.11/dist-packages (from pydantic<3,>=2.6->wandb) (0.7.0)\n",
            "Requirement already satisfied: pydantic-core==2.27.2 in /usr/local/lib/python3.11/dist-packages (from pydantic<3,>=2.6->wandb) (2.27.2)\n",
            "Requirement already satisfied: charset-normalizer<4,>=2 in /usr/local/lib/python3.11/dist-packages (from requests<3,>=2.0.0->wandb) (3.4.1)\n",
            "Requirement already satisfied: idna<4,>=2.5 in /usr/local/lib/python3.11/dist-packages (from requests<3,>=2.0.0->wandb) (3.10)\n",
            "Requirement already satisfied: urllib3<3,>=1.21.1 in /usr/local/lib/python3.11/dist-packages (from requests<3,>=2.0.0->wandb) (2.3.0)\n",
            "Requirement already satisfied: certifi>=2017.4.17 in /usr/local/lib/python3.11/dist-packages (from requests<3,>=2.0.0->wandb) (2025.1.31)\n",
            "Requirement already satisfied: smmap<6,>=3.0.1 in /usr/local/lib/python3.11/dist-packages (from gitdb<5,>=4.0.1->gitpython!=3.1.29,>=1.0.0->wandb) (5.0.2)\n"
          ]
        }
      ]
    },
    {
      "cell_type": "markdown",
      "source": [
        "##✅ WORKING SOLUTION (Compatible with wandb==0.19.8, Keras 3.x, and TF 2.19)\n",
        "\n",
        "We'll not use `wandb.keras` or `wandb.integration.keras.WandbCallback`, because they're incompatible with **Keras 3.x**.\n",
        "\n",
        "Instead, we’ll use:\n",
        "\n",
        "`tf.keras.callbacks.Callback` subclass to manually log metrics to **WandB**."
      ],
      "metadata": {
        "id": "Pl7Whb-wIxmF"
      }
    },
    {
      "cell_type": "markdown",
      "source": [
        "## ✅ Custom WandB Keras"
      ],
      "metadata": {
        "id": "U0VvQxprJCX4"
      }
    },
    {
      "cell_type": "code",
      "source": [
        "import wandb\n",
        "import tensorflow as tf\n",
        "from sklearn.metrics import accuracy_score\n",
        "\n",
        "# Initialize wandb\n",
        "wandb.init(project=\"digitwise-mnist-comparison\", name=\"baseline-models\", config={\n",
        "    \"batch_size\": 128,\n",
        "    \"epochs\": 5,\n",
        "    \"optimizer\": \"adam\"\n",
        "})\n",
        "\n",
        "# Define a custom callback to manually log metrics to WandB\n",
        "class WandbManualLogger(tf.keras.callbacks.Callback):\n",
        "    def on_epoch_end(self, epoch, logs=None):\n",
        "        wandb.log(logs, step=epoch)\n",
        "\n",
        "# Train your model (CNN or DL model)\n",
        "model.fit(\n",
        "    X_train_dl, y_train_cat,\n",
        "    validation_split=0.1,\n",
        "    epochs=wandb.config.epochs,\n",
        "    batch_size=wandb.config.batch_size,\n",
        "    callbacks=[WandbManualLogger()]  # ✅ Our compatible logger\n",
        ")\n",
        "\n",
        "# Log your classical ML model performance\n",
        "wandb.log({\"LogisticRegression Accuracy\": accuracy_score(y_test, lr_pred)})\n",
        "\n",
        "wandb.finish()\n"
      ],
      "metadata": {
        "colab": {
          "base_uri": "https://localhost:8080/",
          "height": 789
        },
        "id": "LeHOMQW1IxBt",
        "outputId": "8e17ef60-cd23-46b7-a06c-a301d0ac17de"
      },
      "execution_count": 16,
      "outputs": [
        {
          "output_type": "stream",
          "name": "stderr",
          "text": [
            "\u001b[34m\u001b[1mwandb\u001b[0m: Using wandb-core as the SDK backend.  Please refer to https://wandb.me/wandb-core for more information.\n",
            "\u001b[34m\u001b[1mwandb\u001b[0m: Currently logged in as: \u001b[33msoumyasankar99\u001b[0m (\u001b[33msoumyasankar99-mixxion\u001b[0m) to \u001b[32mhttps://api.wandb.ai\u001b[0m. Use \u001b[1m`wandb login --relogin`\u001b[0m to force relogin\n"
          ]
        },
        {
          "output_type": "display_data",
          "data": {
            "text/plain": [
              "<IPython.core.display.HTML object>"
            ],
            "text/html": [
              "Tracking run with wandb version 0.19.8"
            ]
          },
          "metadata": {}
        },
        {
          "output_type": "display_data",
          "data": {
            "text/plain": [
              "<IPython.core.display.HTML object>"
            ],
            "text/html": [
              "Run data is saved locally in <code>/content/wandb/run-20250325_195156-fogs0ssc</code>"
            ]
          },
          "metadata": {}
        },
        {
          "output_type": "display_data",
          "data": {
            "text/plain": [
              "<IPython.core.display.HTML object>"
            ],
            "text/html": [
              "Syncing run <strong><a href='https://wandb.ai/soumyasankar99-mixxion/digitwise-mnist-comparison/runs/fogs0ssc' target=\"_blank\">baseline-models</a></strong> to <a href='https://wandb.ai/soumyasankar99-mixxion/digitwise-mnist-comparison' target=\"_blank\">Weights & Biases</a> (<a href='https://wandb.me/developer-guide' target=\"_blank\">docs</a>)<br>"
            ]
          },
          "metadata": {}
        },
        {
          "output_type": "display_data",
          "data": {
            "text/plain": [
              "<IPython.core.display.HTML object>"
            ],
            "text/html": [
              " View project at <a href='https://wandb.ai/soumyasankar99-mixxion/digitwise-mnist-comparison' target=\"_blank\">https://wandb.ai/soumyasankar99-mixxion/digitwise-mnist-comparison</a>"
            ]
          },
          "metadata": {}
        },
        {
          "output_type": "display_data",
          "data": {
            "text/plain": [
              "<IPython.core.display.HTML object>"
            ],
            "text/html": [
              " View run at <a href='https://wandb.ai/soumyasankar99-mixxion/digitwise-mnist-comparison/runs/fogs0ssc' target=\"_blank\">https://wandb.ai/soumyasankar99-mixxion/digitwise-mnist-comparison/runs/fogs0ssc</a>"
            ]
          },
          "metadata": {}
        },
        {
          "output_type": "stream",
          "name": "stdout",
          "text": [
            "Epoch 1/5\n",
            "\u001b[1m394/394\u001b[0m \u001b[32m━━━━━━━━━━━━━━━━━━━━\u001b[0m\u001b[37m\u001b[0m \u001b[1m10s\u001b[0m 17ms/step - accuracy: 0.9932 - loss: 0.0212 - val_accuracy: 0.9961 - val_loss: 0.0201\n",
            "Epoch 2/5\n",
            "\u001b[1m394/394\u001b[0m \u001b[32m━━━━━━━━━━━━━━━━━━━━\u001b[0m\u001b[37m\u001b[0m \u001b[1m6s\u001b[0m 11ms/step - accuracy: 0.9987 - loss: 0.0063 - val_accuracy: 0.9975 - val_loss: 0.0188\n",
            "Epoch 3/5\n",
            "\u001b[1m394/394\u001b[0m \u001b[32m━━━━━━━━━━━━━━━━━━━━\u001b[0m\u001b[37m\u001b[0m \u001b[1m4s\u001b[0m 8ms/step - accuracy: 0.9993 - loss: 0.0044 - val_accuracy: 0.9968 - val_loss: 0.0185\n",
            "Epoch 4/5\n",
            "\u001b[1m394/394\u001b[0m \u001b[32m━━━━━━━━━━━━━━━━━━━━\u001b[0m\u001b[37m\u001b[0m \u001b[1m3s\u001b[0m 7ms/step - accuracy: 0.9997 - loss: 0.0028 - val_accuracy: 0.9971 - val_loss: 0.0176\n",
            "Epoch 5/5\n",
            "\u001b[1m394/394\u001b[0m \u001b[32m━━━━━━━━━━━━━━━━━━━━\u001b[0m\u001b[37m\u001b[0m \u001b[1m3s\u001b[0m 6ms/step - accuracy: 0.9998 - loss: 0.0023 - val_accuracy: 0.9968 - val_loss: 0.0201\n"
          ]
        },
        {
          "output_type": "display_data",
          "data": {
            "text/plain": [
              "<IPython.core.display.HTML object>"
            ],
            "text/html": []
          },
          "metadata": {}
        },
        {
          "output_type": "display_data",
          "data": {
            "text/plain": [
              "<IPython.core.display.HTML object>"
            ],
            "text/html": [
              "<br>    <style><br>        .wandb-row {<br>            display: flex;<br>            flex-direction: row;<br>            flex-wrap: wrap;<br>            justify-content: flex-start;<br>            width: 100%;<br>        }<br>        .wandb-col {<br>            display: flex;<br>            flex-direction: column;<br>            flex-basis: 100%;<br>            flex: 1;<br>            padding: 10px;<br>        }<br>    </style><br><div class=\"wandb-row\"><div class=\"wandb-col\"><h3>Run history:</h3><br/><table class=\"wandb\"><tr><td>LogisticRegression Accuracy</td><td>▁</td></tr><tr><td>accuracy</td><td>▁▇▇██</td></tr><tr><td>loss</td><td>█▄▂▁▁</td></tr><tr><td>val_accuracy</td><td>▁█▄▆▄</td></tr><tr><td>val_loss</td><td>█▄▄▁█</td></tr></table><br/></div><div class=\"wandb-col\"><h3>Run summary:</h3><br/><table class=\"wandb\"><tr><td>LogisticRegression Accuracy</td><td>0.91536</td></tr><tr><td>accuracy</td><td>0.99974</td></tr><tr><td>loss</td><td>0.00231</td></tr><tr><td>val_accuracy</td><td>0.99679</td></tr><tr><td>val_loss</td><td>0.02007</td></tr></table><br/></div></div>"
            ]
          },
          "metadata": {}
        },
        {
          "output_type": "display_data",
          "data": {
            "text/plain": [
              "<IPython.core.display.HTML object>"
            ],
            "text/html": [
              " View run <strong style=\"color:#cdcd00\">baseline-models</strong> at: <a href='https://wandb.ai/soumyasankar99-mixxion/digitwise-mnist-comparison/runs/fogs0ssc' target=\"_blank\">https://wandb.ai/soumyasankar99-mixxion/digitwise-mnist-comparison/runs/fogs0ssc</a><br> View project at: <a href='https://wandb.ai/soumyasankar99-mixxion/digitwise-mnist-comparison' target=\"_blank\">https://wandb.ai/soumyasankar99-mixxion/digitwise-mnist-comparison</a><br>Synced 5 W&B file(s), 0 media file(s), 0 artifact file(s) and 0 other file(s)"
            ]
          },
          "metadata": {}
        },
        {
          "output_type": "display_data",
          "data": {
            "text/plain": [
              "<IPython.core.display.HTML object>"
            ],
            "text/html": [
              "Find logs at: <code>./wandb/run-20250325_195156-fogs0ssc/logs</code>"
            ]
          },
          "metadata": {}
        }
      ]
    },
    {
      "cell_type": "markdown",
      "source": [
        "##🔍 Why This Works\n",
        "\n",
        "- Avoids broken WandbCallback that crashes due to Keras 3’s new layer graph\n",
        "\n",
        "- Compatible with older wandb versions\n",
        "\n",
        "- Still logs training/validation loss and accuracy per epo"
      ],
      "metadata": {
        "id": "OrPMISFAJVKf"
      }
    },
    {
      "cell_type": "markdown",
      "source": [
        "## **🔥 Visual Comparison of Model Performance**"
      ],
      "metadata": {
        "id": "oO8VT_3gJfgB"
      }
    },
    {
      "cell_type": "markdown",
      "source": [
        "### **✅ Full Model Comparison Pipeline on MNIST**"
      ],
      "metadata": {
        "id": "B3ep9K06AYqV"
      }
    },
    {
      "cell_type": "markdown",
      "source": [
        "**📦 Step 1: Import Libraries**"
      ],
      "metadata": {
        "id": "g8MWahXRAWHw"
      }
    },
    {
      "cell_type": "code",
      "source": [
        "import numpy as np\n",
        "import matplotlib.pyplot as plt\n",
        "from sklearn.datasets import fetch_openml\n",
        "from sklearn.model_selection import train_test_split\n",
        "from sklearn.preprocessing import StandardScaler\n",
        "from sklearn.linear_model import LogisticRegression\n",
        "from sklearn.neighbors import KNeighborsClassifier\n",
        "from sklearn.ensemble import RandomForestClassifier\n",
        "from sklearn.metrics import accuracy_score\n",
        "\n",
        "import tensorflow as tf\n",
        "from tensorflow.keras.models import Sequential\n",
        "from tensorflow.keras.layers import Conv2D, MaxPooling2D, Flatten, Dense\n",
        "from tensorflow.keras.utils import to_categorical\n"
      ],
      "metadata": {
        "id": "ckYjuLa9NCFR"
      },
      "execution_count": 17,
      "outputs": []
    },
    {
      "cell_type": "markdown",
      "source": [
        "**Step 2: Load & Preprocess the Data**"
      ],
      "metadata": {
        "id": "q-StK8SgAjzr"
      }
    },
    {
      "cell_type": "code",
      "source": [
        "wandb.init(\n",
        "    project=\"digitwise-mnist-comparison\",\n",
        "    name=\"baseline-all-models\",\n",
        "    config={\n",
        "        \"batch_size\": 128,\n",
        "        \"epochs\": 5,\n",
        "        \"optimizer\": \"adam\"\n",
        "    }\n",
        ")\n",
        "\n",
        "config = wandb.config\n"
      ],
      "metadata": {
        "colab": {
          "base_uri": "https://localhost:8080/",
          "height": 105
        },
        "id": "hreKFQ9_PE2G",
        "outputId": "94e43eb3-f623-4d96-83af-307800700d17"
      },
      "execution_count": 18,
      "outputs": [
        {
          "output_type": "display_data",
          "data": {
            "text/plain": [
              "<IPython.core.display.HTML object>"
            ],
            "text/html": [
              "Tracking run with wandb version 0.19.8"
            ]
          },
          "metadata": {}
        },
        {
          "output_type": "display_data",
          "data": {
            "text/plain": [
              "<IPython.core.display.HTML object>"
            ],
            "text/html": [
              "Run data is saved locally in <code>/content/wandb/run-20250325_195225-9f0o9y5j</code>"
            ]
          },
          "metadata": {}
        },
        {
          "output_type": "display_data",
          "data": {
            "text/plain": [
              "<IPython.core.display.HTML object>"
            ],
            "text/html": [
              "Syncing run <strong><a href='https://wandb.ai/soumyasankar99-mixxion/digitwise-mnist-comparison/runs/9f0o9y5j' target=\"_blank\">baseline-all-models</a></strong> to <a href='https://wandb.ai/soumyasankar99-mixxion/digitwise-mnist-comparison' target=\"_blank\">Weights & Biases</a> (<a href='https://wandb.me/developer-guide' target=\"_blank\">docs</a>)<br>"
            ]
          },
          "metadata": {}
        },
        {
          "output_type": "display_data",
          "data": {
            "text/plain": [
              "<IPython.core.display.HTML object>"
            ],
            "text/html": [
              " View project at <a href='https://wandb.ai/soumyasankar99-mixxion/digitwise-mnist-comparison' target=\"_blank\">https://wandb.ai/soumyasankar99-mixxion/digitwise-mnist-comparison</a>"
            ]
          },
          "metadata": {}
        },
        {
          "output_type": "display_data",
          "data": {
            "text/plain": [
              "<IPython.core.display.HTML object>"
            ],
            "text/html": [
              " View run at <a href='https://wandb.ai/soumyasankar99-mixxion/digitwise-mnist-comparison/runs/9f0o9y5j' target=\"_blank\">https://wandb.ai/soumyasankar99-mixxion/digitwise-mnist-comparison/runs/9f0o9y5j</a>"
            ]
          },
          "metadata": {}
        }
      ]
    },
    {
      "cell_type": "markdown",
      "source": [
        "**Step 3: Train Classical Models**"
      ],
      "metadata": {
        "id": "5UA8U0BoAoBL"
      }
    },
    {
      "cell_type": "code",
      "source": [
        "# Load MNIST\n",
        "mnist = fetch_openml('mnist_784', version=1)\n",
        "X, y = mnist[\"data\"], mnist[\"target\"].astype(np.uint8)\n",
        "\n",
        "# Train-test split\n",
        "X_train_flat, X_test_flat, y_train, y_test = train_test_split(X, y, test_size=0.2, random_state=42)\n",
        "\n",
        "# Scale for classical models\n",
        "scaler = StandardScaler()\n",
        "X_train_flat = scaler.fit_transform(X_train_flat)\n",
        "X_test_flat = scaler.transform(X_test_flat)\n",
        "\n",
        "# Reshape and scale for DL\n",
        "X_train_dl = X_train_flat.reshape(-1, 28, 28, 1)\n",
        "X_test_dl = X_test_flat.reshape(-1, 28, 28, 1)\n",
        "X_train_dl = X_train_dl / 255.0\n",
        "X_test_dl = X_test_dl / 255.0\n",
        "\n",
        "# One-hot encode labels for DL\n",
        "y_train_cat = to_categorical(y_train, num_classes=10)\n",
        "y_test_cat = to_categorical(y_test, num_classes=10)\n"
      ],
      "metadata": {
        "id": "fnQXigGgNCqg"
      },
      "execution_count": 19,
      "outputs": []
    },
    {
      "cell_type": "markdown",
      "source": [
        "**🧠 Step 4: Build & Train CNN**"
      ],
      "metadata": {
        "id": "3Z_3borpAuBF"
      }
    },
    {
      "cell_type": "code",
      "source": [
        "# Logistic Regression\n",
        "lr_model = LogisticRegression(max_iter=1000)\n",
        "lr_model.fit(X_train_flat, y_train)\n",
        "lr_pred = lr_model.predict(X_test_flat)\n",
        "lr_acc = accuracy_score(y_test, lr_pred)\n",
        "wandb.log({\"LogisticRegression Accuracy\": lr_acc})\n",
        "\n",
        "# KNN\n",
        "knn_model = KNeighborsClassifier()\n",
        "knn_model.fit(X_train_flat, y_train)\n",
        "knn_pred = knn_model.predict(X_test_flat)\n",
        "knn_acc = accuracy_score(y_test, knn_pred)\n",
        "wandb.log({\"KNN Accuracy\": knn_acc})\n",
        "\n",
        "# Random Forest\n",
        "rf_model = RandomForestClassifier()\n",
        "rf_model.fit(X_train_flat, y_train)\n",
        "rf_pred = rf_model.predict(X_test_flat)\n",
        "rf_acc = accuracy_score(y_test, rf_pred)\n",
        "wandb.log({\"RandomForest Accuracy\": rf_acc})\n"
      ],
      "metadata": {
        "id": "uiwoMy8FNzP9"
      },
      "execution_count": 20,
      "outputs": []
    },
    {
      "cell_type": "markdown",
      "source": [
        "**📊 Step 5: Visual Comparison**"
      ],
      "metadata": {
        "id": "93Nm-tt-A0BM"
      }
    },
    {
      "cell_type": "code",
      "source": [
        "cnn_model = Sequential([\n",
        "    Conv2D(32, (3, 3), activation='relu', input_shape=(28, 28, 1)),\n",
        "    MaxPooling2D(pool_size=(2, 2)),\n",
        "    Flatten(),\n",
        "    Dense(128, activation='relu'),\n",
        "    Dense(10, activation='softmax')\n",
        "])\n",
        "\n",
        "cnn_model.compile(optimizer=config.optimizer, loss='categorical_crossentropy', metrics=['accuracy'])\n",
        "\n",
        "class WandbManualLogger(tf.keras.callbacks.Callback):\n",
        "    def on_epoch_end(self, epoch, logs=None):\n",
        "        wandb.log(logs, step=epoch)\n",
        "\n",
        "cnn_model.fit(\n",
        "    X_train_dl, y_train_cat,\n",
        "    epochs=config.epochs,\n",
        "    batch_size=config.batch_size,\n",
        "    validation_split=0.1,\n",
        "    callbacks=[WandbManualLogger()],\n",
        "    verbose=1\n",
        ")\n",
        "\n",
        "cnn_loss, cnn_acc = cnn_model.evaluate(X_test_dl, y_test_cat, verbose=0)\n",
        "wandb.log({\"CNN Accuracy\": cnn_acc})\n"
      ],
      "metadata": {
        "colab": {
          "base_uri": "https://localhost:8080/"
        },
        "id": "1UD9VPlIPovn",
        "outputId": "e21f1bb0-1139-42cd-fe5e-fdf5fc9dc703"
      },
      "execution_count": 21,
      "outputs": [
        {
          "output_type": "stream",
          "name": "stdout",
          "text": [
            "Epoch 1/5\n",
            "\u001b[1m394/394\u001b[0m \u001b[32m━━━━━━━━━━━━━━━━━━━━\u001b[0m\u001b[37m\u001b[0m \u001b[1m7s\u001b[0m 10ms/step - accuracy: 0.6153 - loss: 1.4150 - val_accuracy: 0.8979 - val_loss: 0.3497\n",
            "Epoch 2/5\n",
            "\u001b[1m394/394\u001b[0m \u001b[32m━━━━━━━━━━━━━━━━━━━━\u001b[0m\u001b[37m\u001b[0m \u001b[1m6s\u001b[0m 5ms/step - accuracy: 0.8980 - loss: 0.3418 - val_accuracy: 0.9209 - val_loss: 0.2669\n",
            "Epoch 3/5\n",
            "\u001b[1m394/394\u001b[0m \u001b[32m━━━━━━━━━━━━━━━━━━━━\u001b[0m\u001b[37m\u001b[0m \u001b[1m2s\u001b[0m 4ms/step - accuracy: 0.9185 - loss: 0.2745 - val_accuracy: 0.9352 - val_loss: 0.2265\n",
            "Epoch 4/5\n"
          ]
        },
        {
          "output_type": "stream",
          "name": "stderr",
          "text": [
            "\u001b[34m\u001b[1mwandb\u001b[0m: \u001b[33mWARNING\u001b[0m Tried to log to step 0 that is less than the current step 3. Steps must be monotonically increasing, so this data will be ignored. See https://wandb.me/define-metric to log data out of order.\n",
            "\u001b[34m\u001b[1mwandb\u001b[0m: \u001b[33mWARNING\u001b[0m Tried to log to step 1 that is less than the current step 3. Steps must be monotonically increasing, so this data will be ignored. See https://wandb.me/define-metric to log data out of order.\n",
            "\u001b[34m\u001b[1mwandb\u001b[0m: \u001b[33mWARNING\u001b[0m Tried to log to step 2 that is less than the current step 3. Steps must be monotonically increasing, so this data will be ignored. See https://wandb.me/define-metric to log data out of order.\n"
          ]
        },
        {
          "output_type": "stream",
          "name": "stdout",
          "text": [
            "\u001b[1m394/394\u001b[0m \u001b[32m━━━━━━━━━━━━━━━━━━━━\u001b[0m\u001b[37m\u001b[0m \u001b[1m3s\u001b[0m 4ms/step - accuracy: 0.9314 - loss: 0.2315 - val_accuracy: 0.9438 - val_loss: 0.1948\n",
            "Epoch 5/5\n",
            "\u001b[1m394/394\u001b[0m \u001b[32m━━━━━━━━━━━━━━━━━━━━\u001b[0m\u001b[37m\u001b[0m \u001b[1m2s\u001b[0m 4ms/step - accuracy: 0.9420 - loss: 0.1961 - val_accuracy: 0.9466 - val_loss: 0.1713\n"
          ]
        }
      ]
    },
    {
      "cell_type": "markdown",
      "source": [
        "## **✅ WandB-Logged Model Comparison on MNIST**"
      ],
      "metadata": {
        "id": "a8LNUGKNA6Sh"
      }
    },
    {
      "cell_type": "code",
      "source": [
        "model_names = ['Logistic Regression', 'KNN', 'Random Forest', 'CNN']\n",
        "accuracies = [lr_acc, knn_acc, rf_acc, cnn_acc]\n",
        "\n",
        "wandb.log({\n",
        "    \"accuracy_comparison\": wandb.plot.bar(\n",
        "        wandb.Table(data=[[name, acc] for name, acc in zip(model_names, accuracies)], columns=[\"Model\", \"Accuracy\"]),\n",
        "        \"Model\",\n",
        "        \"Accuracy\",\n",
        "        title=\"Model Accuracy Comparison\"\n",
        "    )\n",
        "})\n"
      ],
      "metadata": {
        "id": "Y6k6pTPuQEDG"
      },
      "execution_count": 22,
      "outputs": []
    },
    {
      "cell_type": "code",
      "source": [
        "plt.figure(figsize=(10, 6))\n",
        "bars = plt.bar(model_names, accuracies, color=['#007acc', '#00bfae', '#ff8c00', '#ff4c4c'])\n",
        "plt.title(\"📊 Model Accuracy Comparison on MNIST\", fontsize=16)\n",
        "plt.ylabel(\"Accuracy\", fontsize=12)\n",
        "plt.ylim(0.9, 1.0)\n",
        "plt.grid(axis='y', linestyle='--', alpha=0.7)\n",
        "\n",
        "for bar, acc in zip(bars, accuracies):\n",
        "    yval = bar.get_height()\n",
        "    plt.text(bar.get_x() + bar.get_width()/2.0, yval + 0.005, f'{acc:.4f}', ha='center', va='bottom')\n",
        "\n",
        "plt.tight_layout()\n",
        "plt.show()\n"
      ],
      "metadata": {
        "colab": {
          "base_uri": "https://localhost:8080/",
          "height": 607
        },
        "id": "sNCwsA5WQQz5",
        "outputId": "c0bd0d05-072a-4a83-90dd-2ee2c15efbf5"
      },
      "execution_count": 23,
      "outputs": [
        {
          "output_type": "display_data",
          "data": {
            "text/plain": [
              "<Figure size 1000x600 with 1 Axes>"
            ],
            "image/png": "[encoded data removed]"
          },
          "metadata": {}
        }
      ]
    },
    {
      "cell_type": "code",
      "source": [
        "wandb.finish()"
      ],
      "metadata": {
        "colab": {
          "base_uri": "https://localhost:8080/",
          "height": 609
        },
        "id": "WROFYxToQSyb",
        "outputId": "7a40e6ca-7a9c-46bb-ab3b-371f7065100a"
      },
      "execution_count": 24,
      "outputs": [
        {
          "output_type": "display_data",
          "data": {
            "text/plain": [
              "<IPython.core.display.HTML object>"
            ],
            "text/html": []
          },
          "metadata": {}
        },
        {
          "output_type": "display_data",
          "data": {
            "text/plain": [
              "<IPython.core.display.HTML object>"
            ],
            "text/html": [
              "<br>    <style><br>        .wandb-row {<br>            display: flex;<br>            flex-direction: row;<br>            flex-wrap: wrap;<br>            justify-content: flex-start;<br>            width: 100%;<br>        }<br>        .wandb-col {<br>            display: flex;<br>            flex-direction: column;<br>            flex-basis: 100%;<br>            flex: 1;<br>            padding: 10px;<br>        }<br>    </style><br><div class=\"wandb-row\"><div class=\"wandb-col\"><h3>Run history:</h3><br/><table class=\"wandb\"><tr><td>CNN Accuracy</td><td>▁</td></tr><tr><td>KNN Accuracy</td><td>▁</td></tr><tr><td>LogisticRegression Accuracy</td><td>▁</td></tr><tr><td>RandomForest Accuracy</td><td>▁</td></tr><tr><td>accuracy</td><td>▁█</td></tr><tr><td>loss</td><td>█▁</td></tr><tr><td>val_accuracy</td><td>▁█</td></tr><tr><td>val_loss</td><td>█▁</td></tr></table><br/></div><div class=\"wandb-col\"><h3>Run summary:</h3><br/><table class=\"wandb\"><tr><td>CNN Accuracy</td><td>0.945</td></tr><tr><td>KNN Accuracy</td><td>0.94579</td></tr><tr><td>LogisticRegression Accuracy</td><td>0.91579</td></tr><tr><td>RandomForest Accuracy</td><td>0.967</td></tr><tr><td>accuracy</td><td>0.94391</td></tr><tr><td>loss</td><td>0.18684</td></tr><tr><td>val_accuracy</td><td>0.94661</td></tr><tr><td>val_loss</td><td>0.17132</td></tr></table><br/></div></div>"
            ]
          },
          "metadata": {}
        },
        {
          "output_type": "display_data",
          "data": {
            "text/plain": [
              "<IPython.core.display.HTML object>"
            ],
            "text/html": [
              " View run <strong style=\"color:#cdcd00\">baseline-all-models</strong> at: <a href='https://wandb.ai/soumyasankar99-mixxion/digitwise-mnist-comparison/runs/9f0o9y5j' target=\"_blank\">https://wandb.ai/soumyasankar99-mixxion/digitwise-mnist-comparison/runs/9f0o9y5j</a><br> View project at: <a href='https://wandb.ai/soumyasankar99-mixxion/digitwise-mnist-comparison' target=\"_blank\">https://wandb.ai/soumyasankar99-mixxion/digitwise-mnist-comparison</a><br>Synced 5 W&B file(s), 1 media file(s), 2 artifact file(s) and 0 other file(s)"
            ]
          },
          "metadata": {}
        },
        {
          "output_type": "display_data",
          "data": {
            "text/plain": [
              "<IPython.core.display.HTML object>"
            ],
            "text/html": [
              "Find logs at: <code>./wandb/run-20250325_195225-9f0o9y5j/logs</code>"
            ]
          },
          "metadata": {}
        }
      ]
    },
    {
      "cell_type": "markdown",
      "source": [
        "## ✅ Confusion Matrices, ROC Curves & Model Saving to WandB\n",
        "\n",
        "**Step 1: Confusion Matrix Logging to WandB**"
      ],
      "metadata": {
        "id": "mBUmAEc31Hqq"
      }
    },
    {
      "cell_type": "code",
      "source": [
        "from sklearn.metrics import confusion_matrix\n",
        "import seaborn as sns\n",
        "import matplotlib.pyplot as plt\n",
        "import wandb\n",
        "\n",
        "\n",
        "# Initialize wandb before logging\n",
        "wandb.init(project=\"digitwise-mnist-comparison\", name=\"confusion-matrices\")\n",
        "\n",
        "def log_conf_matrix_to_wandb(y_true, y_pred, labels, model_name):\n",
        "    cm = confusion_matrix(y_true, y_pred)\n",
        "    plt.figure(figsize=(6, 5))\n",
        "    sns.heatmap(cm, annot=True, fmt=\"d\", cmap=\"Blues\", xticklabels=labels, yticklabels=labels)\n",
        "    plt.title(f\"{model_name} - Confusion Matrix\")\n",
        "    plt.xlabel(\"Predicted\")\n",
        "    plt.ylabel(\"Actual\")\n",
        "    wandb.log({f\"{model_name} Confusion Matrix\": wandb.Image(plt)})\n",
        "    plt.close()\n",
        "\n",
        "label_names = [str(i) for i in range(10)]\n",
        "\n",
        "# Classical models\n",
        "log_conf_matrix_to_wandb(y_test, lr_pred, label_names, \"Logistic Regression\")\n",
        "log_conf_matrix_to_wandb(y_test, knn_pred, label_names, \"KNN\")\n",
        "log_conf_matrix_to_wandb(y_test, rf_pred, label_names, \"Random Forest\")\n",
        "\n",
        "# CNN predictions (get class indices)\n",
        "cnn_pred = np.argmax(cnn_model.predict(X_test_dl), axis=1)\n",
        "log_conf_matrix_to_wandb(y_test, cnn_pred, label_names, \"CNN\")\n",
        "\n",
        "wandb.finish() # Finish the wandb run after logging all confusion matrices\n"
      ],
      "metadata": {
        "colab": {
          "base_uri": "https://localhost:8080/",
          "height": 105
        },
        "id": "jMlIKqWd1HV4",
        "outputId": "afc88c0b-d58b-45b6-cd22-720821381043"
      },
      "execution_count": 30,
      "outputs": [
        {
          "output_type": "stream",
          "name": "stdout",
          "text": [
            "\u001b[1m438/438\u001b[0m \u001b[32m━━━━━━━━━━━━━━━━━━━━\u001b[0m\u001b[37m\u001b[0m \u001b[1m1s\u001b[0m 1ms/step\n"
          ]
        },
        {
          "output_type": "display_data",
          "data": {
            "text/plain": [
              "<IPython.core.display.HTML object>"
            ],
            "text/html": []
          },
          "metadata": {}
        },
        {
          "output_type": "display_data",
          "data": {
            "text/plain": [
              "<IPython.core.display.HTML object>"
            ],
            "text/html": [
              " View run <strong style=\"color:#cdcd00\">roc-curves</strong> at: <a href='https://wandb.ai/soumyasankar99-mixxion/digitwise-mnist-comparison/runs/ri4s1vba' target=\"_blank\">https://wandb.ai/soumyasankar99-mixxion/digitwise-mnist-comparison/runs/ri4s1vba</a><br> View project at: <a href='https://wandb.ai/soumyasankar99-mixxion/digitwise-mnist-comparison' target=\"_blank\">https://wandb.ai/soumyasankar99-mixxion/digitwise-mnist-comparison</a><br>Synced 5 W&B file(s), 8 media file(s), 0 artifact file(s) and 0 other file(s)"
            ]
          },
          "metadata": {}
        },
        {
          "output_type": "display_data",
          "data": {
            "text/plain": [
              "<IPython.core.display.HTML object>"
            ],
            "text/html": [
              "Find logs at: <code>./wandb/run-20250325_200331-ri4s1vba/logs</code>"
            ]
          },
          "metadata": {}
        }
      ]
    },
    {
      "cell_type": "markdown",
      "source": [
        "![media_images_Random Forest Confusion Matrix_6_a38f25627dbeba8aa223.png](data:image/png;base64,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)"
      ],
      "metadata": {
        "id": "qbMJiy8yEOAZ"
      }
    },
    {
      "cell_type": "markdown",
      "source": [
        "**Step 2: ROC Curve for Multi-Class Classification**"
      ],
      "metadata": {
        "id": "-XRN0mpk3erB"
      }
    },
    {
      "cell_type": "code",
      "source": [
        "from sklearn.preprocessing import label_binarize\n",
        "from sklearn.metrics import roc_curve, auc\n",
        "from sklearn.metrics import RocCurveDisplay\n",
        "import wandb\n",
        "\n",
        "def log_roc_curve(y_true, y_proba, model_name):\n",
        "\n",
        "    wandb.init(project=\"digitwise-mnist-comparison\", name=\"roc-curves\") # Initialize wandb before logging\n",
        "\n",
        "    y_bin = label_binarize(y_true, classes=list(range(10)))\n",
        "    fpr = dict()\n",
        "    tpr = dict()\n",
        "    roc_auc = dict()\n",
        "\n",
        "    for i in range(10):\n",
        "        fpr[i], tpr[i], _ = roc_curve(y_bin[:, i], y_proba[:, i])\n",
        "        roc_auc[i] = auc(fpr[i], tpr[i])\n",
        "\n",
        "    plt.figure(figsize=(10, 8))\n",
        "    for i in range(10):\n",
        "        plt.plot(fpr[i], tpr[i], lw=2, label=f\"Class {i} (AUC = {roc_auc[i]:.2f})\")\n",
        "    plt.plot([0, 1], [0, 1], 'k--', lw=1)\n",
        "    plt.xlim([0.0, 1.0])\n",
        "    plt.ylim([0.0, 1.05])\n",
        "    plt.xlabel(\"False Positive Rate\")\n",
        "    plt.ylabel(\"True Positive Rate\")\n",
        "    plt.title(f\"ROC Curve - {model_name}\")\n",
        "    plt.legend(loc=\"lower right\")\n",
        "    wandb.log({f\"{model_name} ROC Curve\": wandb.Image(plt)})\n",
        "    plt.close()\n",
        "\n",
        "# Logistic Regression ROC\n",
        "lr_proba = lr_model.predict_proba(X_test_flat)\n",
        "log_roc_curve(y_test, lr_proba, \"Logistic Regression\")\n",
        "\n",
        "# KNN ROC (some implementations lack predict_proba support for >2 classes)\n",
        "try:\n",
        "    knn_proba = knn_model.predict_proba(X_test_flat)\n",
        "    log_roc_curve(y_test, knn_proba, \"KNN\")\n",
        "except Exception as e:\n",
        "    print(\"KNN ROC skipped:\", e)\n",
        "\n",
        "# Random Forest ROC\n",
        "rf_proba = rf_model.predict_proba(X_test_flat)\n",
        "log_roc_curve(y_test, rf_proba, \"Random Forest\")\n",
        "\n",
        "# CNN ROC\n",
        "cnn_proba = cnn_model.predict(X_test_dl)\n",
        "log_roc_curve(y_test, cnn_proba, \"CNN\")\n"
      ],
      "metadata": {
        "colab": {
          "base_uri": "https://localhost:8080/",
          "height": 123
        },
        "id": "2OcFR0Dj3iDB",
        "outputId": "b7a15c6d-f74c-4d22-d46e-33795818375b"
      },
      "execution_count": 29,
      "outputs": [
        {
          "output_type": "display_data",
          "data": {
            "text/plain": [
              "<IPython.core.display.HTML object>"
            ],
            "text/html": [
              "Tracking run with wandb version 0.19.8"
            ]
          },
          "metadata": {}
        },
        {
          "output_type": "display_data",
          "data": {
            "text/plain": [
              "<IPython.core.display.HTML object>"
            ],
            "text/html": [
              "Run data is saved locally in <code>/content/wandb/run-20250325_200331-ri4s1vba</code>"
            ]
          },
          "metadata": {}
        },
        {
          "output_type": "display_data",
          "data": {
            "text/plain": [
              "<IPython.core.display.HTML object>"
            ],
            "text/html": [
              "Syncing run <strong><a href='https://wandb.ai/soumyasankar99-mixxion/digitwise-mnist-comparison/runs/ri4s1vba' target=\"_blank\">roc-curves</a></strong> to <a href='https://wandb.ai/soumyasankar99-mixxion/digitwise-mnist-comparison' target=\"_blank\">Weights & Biases</a> (<a href='https://wandb.me/developer-guide' target=\"_blank\">docs</a>)<br>"
            ]
          },
          "metadata": {}
        },
        {
          "output_type": "display_data",
          "data": {
            "text/plain": [
              "<IPython.core.display.HTML object>"
            ],
            "text/html": [
              " View project at <a href='https://wandb.ai/soumyasankar99-mixxion/digitwise-mnist-comparison' target=\"_blank\">https://wandb.ai/soumyasankar99-mixxion/digitwise-mnist-comparison</a>"
            ]
          },
          "metadata": {}
        },
        {
          "output_type": "display_data",
          "data": {
            "text/plain": [
              "<IPython.core.display.HTML object>"
            ],
            "text/html": [
              " View run at <a href='https://wandb.ai/soumyasankar99-mixxion/digitwise-mnist-comparison/runs/ri4s1vba' target=\"_blank\">https://wandb.ai/soumyasankar99-mixxion/digitwise-mnist-comparison/runs/ri4s1vba</a>"
            ]
          },
          "metadata": {}
        },
        {
          "output_type": "stream",
          "name": "stdout",
          "text": [
            "\u001b[1m438/438\u001b[0m \u001b[32m━━━━━━━━━━━━━━━━━━━━\u001b[0m\u001b[37m\u001b[0m \u001b[1m2s\u001b[0m 3ms/step\n"
          ]
        }
      ]
    },
    {
      "cell_type": "markdown",
      "source": [
        "![media_images_Random Forest ROC Curve_2_69831bebeee6acf98f38.png](data:image/png;base64,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)"
      ],
      "metadata": {
        "id": "0kRjL82wEhV-"
      }
    },
    {
      "cell_type": "markdown",
      "source": [
        "**Step 3: Save Models as Artifacts to WandB**"
      ],
      "metadata": {
        "id": "esTNVknH3q4u"
      }
    },
    {
      "cell_type": "code",
      "source": [
        "import joblib\n",
        "import os\n",
        "import wandb\n",
        "os.makedirs(\"saved_models\", exist_ok=True)\n",
        "\n",
        "# Save classical models\n",
        "joblib.dump(lr_model, \"saved_models/lr_model.pkl\")\n",
        "joblib.dump(knn_model, \"saved_models/knn_model.pkl\")\n",
        "joblib.dump(rf_model, \"saved_models/rf_model.pkl\")\n",
        "\n",
        "# Save CNN model\n",
        "cnn_model.save(\"saved_models/cnn_model.keras\")\n",
        "\n",
        "# Initialize wandb before logging the artifact\n",
        "wandb.init(project=\"digitwise-mnist-comparison\", name=\"model-saving\") # Initialize a new wandb run\n",
        "\n",
        "# Create artifacts\n",
        "artifact = wandb.Artifact(\"mnist_models\", type=\"model\")\n",
        "artifact.add_dir(\"saved_models\")\n",
        "wandb.log_artifact(artifact)\n",
        "\n",
        "wandb.finish()"
      ],
      "metadata": {
        "colab": {
          "base_uri": "https://localhost:8080/",
          "height": 193
        },
        "id": "EJ8T1ICp3qeu",
        "outputId": "c772655f-b1e7-4da5-867f-3a8685647335"
      },
      "execution_count": 28,
      "outputs": [
        {
          "output_type": "display_data",
          "data": {
            "text/plain": [
              "<IPython.core.display.HTML object>"
            ],
            "text/html": [
              "Tracking run with wandb version 0.19.8"
            ]
          },
          "metadata": {}
        },
        {
          "output_type": "display_data",
          "data": {
            "text/plain": [
              "<IPython.core.display.HTML object>"
            ],
            "text/html": [
              "Run data is saved locally in <code>/content/wandb/run-20250325_195856-utpwrhok</code>"
            ]
          },
          "metadata": {}
        },
        {
          "output_type": "display_data",
          "data": {
            "text/plain": [
              "<IPython.core.display.HTML object>"
            ],
            "text/html": [
              "Syncing run <strong><a href='https://wandb.ai/soumyasankar99-mixxion/digitwise-mnist-comparison/runs/utpwrhok' target=\"_blank\">model-saving</a></strong> to <a href='https://wandb.ai/soumyasankar99-mixxion/digitwise-mnist-comparison' target=\"_blank\">Weights & Biases</a> (<a href='https://wandb.me/developer-guide' target=\"_blank\">docs</a>)<br>"
            ]
          },
          "metadata": {}
        },
        {
          "output_type": "display_data",
          "data": {
            "text/plain": [
              "<IPython.core.display.HTML object>"
            ],
            "text/html": [
              " View project at <a href='https://wandb.ai/soumyasankar99-mixxion/digitwise-mnist-comparison' target=\"_blank\">https://wandb.ai/soumyasankar99-mixxion/digitwise-mnist-comparison</a>"
            ]
          },
          "metadata": {}
        },
        {
          "output_type": "display_data",
          "data": {
            "text/plain": [
              "<IPython.core.display.HTML object>"
            ],
            "text/html": [
              " View run at <a href='https://wandb.ai/soumyasankar99-mixxion/digitwise-mnist-comparison/runs/utpwrhok' target=\"_blank\">https://wandb.ai/soumyasankar99-mixxion/digitwise-mnist-comparison/runs/utpwrhok</a>"
            ]
          },
          "metadata": {}
        },
        {
          "output_type": "stream",
          "name": "stderr",
          "text": [
            "\u001b[34m\u001b[1mwandb\u001b[0m: Adding directory to artifact (./saved_models)... Done. 2.2s\n"
          ]
        },
        {
          "output_type": "display_data",
          "data": {
            "text/plain": [
              "<IPython.core.display.HTML object>"
            ],
            "text/html": []
          },
          "metadata": {}
        },
        {
          "output_type": "display_data",
          "data": {
            "text/plain": [
              "<IPython.core.display.HTML object>"
            ],
            "text/html": [
              " View run <strong style=\"color:#cdcd00\">model-saving</strong> at: <a href='https://wandb.ai/soumyasankar99-mixxion/digitwise-mnist-comparison/runs/utpwrhok' target=\"_blank\">https://wandb.ai/soumyasankar99-mixxion/digitwise-mnist-comparison/runs/utpwrhok</a><br> View project at: <a href='https://wandb.ai/soumyasankar99-mixxion/digitwise-mnist-comparison' target=\"_blank\">https://wandb.ai/soumyasankar99-mixxion/digitwise-mnist-comparison</a><br>Synced 5 W&B file(s), 0 media file(s), 5 artifact file(s) and 0 other file(s)"
            ]
          },
          "metadata": {}
        },
        {
          "output_type": "display_data",
          "data": {
            "text/plain": [
              "<IPython.core.display.HTML object>"
            ],
            "text/html": [
              "Find logs at: <code>./wandb/run-20250325_195856-utpwrhok/logs</code>"
            ]
          },
          "metadata": {}
        }
      ]
    }
  ]
}